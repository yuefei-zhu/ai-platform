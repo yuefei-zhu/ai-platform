{
 "cells": [
  {
   "cell_type": "code",
   "execution_count": null,
   "metadata": {},
   "outputs": [],
   "source": [
    "import sys\n",
    "sys.path.append('../') # go to parent dir\n",
    "from collections import OrderedDict\n",
    "%matplotlib inline\n",
    "from matplotlib import pyplot as plt\n",
    "import torchvision\n",
    "import torch\n",
    "import torch.nn as nn\n",
    "from networks.style_gan_net import Generator"
   ]
  },
  {
   "cell_type": "code",
   "execution_count": null,
   "metadata": {},
   "outputs": [],
   "source": [
    "device = 'cuda:0' if torch.cuda.is_available() else 'cpu'\n",
    "g_all = Generator()\n",
    "g_all.load_state_dict(torch.load('../pretrained/karras2019stylegan-ffhq-1024x1024.pt'))"
   ]
  },
  {
   "cell_type": "code",
   "execution_count": null,
   "metadata": {},
   "outputs": [],
   "source": [
    "%matplotlib inline\n",
    "from matplotlib import pyplot\n",
    "import torchvision\n",
    "device = 'cuda:0' if torch.cuda.is_available() else 'cpu'\n",
    "g_all.eval()\n",
    "g_all.to(device)\n",
    "\n",
    "torch.manual_seed(77)\n",
    "nb_rows = 2\n",
    "nb_cols = 5\n",
    "nb_samples = nb_rows * nb_cols\n",
    "latents = torch.randn(nb_samples, 512, device=device)\n",
    "with torch.no_grad():\n",
    "    imgs = g_all(latents)\n",
    "    imgs = (imgs.clamp(-1, 1) + 1) / 2.0 # normalization to 0..1 range\n",
    "imgs = imgs.cpu()\n",
    "\n",
    "imgs = torchvision.utils.make_grid(imgs, nrow=nb_cols)\n",
    "\n",
    "pyplot.figure(figsize=(15, 6))\n",
    "pyplot.imshow(imgs.permute(1, 2, 0).detach().numpy())"
   ]
  },
  {
   "cell_type": "code",
   "execution_count": null,
   "metadata": {},
   "outputs": [],
   "source": []
  },
  {
   "cell_type": "code",
   "execution_count": null,
   "metadata": {},
   "outputs": [],
   "source": []
  }
 ],
 "metadata": {
  "kernelspec": {
   "display_name": "Python 3",
   "language": "python",
   "name": "python3"
  },
  "language_info": {
   "codemirror_mode": {
    "name": "ipython",
    "version": 3
   },
   "file_extension": ".py",
   "mimetype": "text/x-python",
   "name": "python",
   "nbconvert_exporter": "python",
   "pygments_lexer": "ipython3",
   "version": "3.6.8"
  }
 },
 "nbformat": 4,
 "nbformat_minor": 2
}
